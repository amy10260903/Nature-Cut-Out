{
 "cells": [
  {
   "cell_type": "code",
   "execution_count": 1,
   "metadata": {},
   "outputs": [
    {
     "name": "stderr",
     "output_type": "stream",
     "text": [
      "/usr/lib/pymodules/python2.7/matplotlib/__init__.py:1173: UserWarning:  This call to matplotlib.use() has no effect\n",
      "because the backend has already been chosen;\n",
      "matplotlib.use() must be called *before* pylab, matplotlib.pyplot,\n",
      "or matplotlib.backends is imported for the first time.\n",
      "\n",
      "  warnings.warn(_use_error_msg)\n"
     ]
    }
   ],
   "source": [
    "# Author: \n",
    "# Human pose estimation : https://github.com/ZheC/Realtime_Multi-Person_Pose_Estimation\n",
    "# Nature Cut out : Huiting Hong\n",
    "import os\n",
    "import sys\n",
    "import cv2 as cv \n",
    "import numpy as np\n",
    "import scipy\n",
    "from scipy.ndimage.filters import gaussian_filter\n",
    "import math\n",
    "import caffe\n",
    "import time\n",
    "from config_reader import config_reader\n",
    "import util\n",
    "import copy\n",
    "import matplotlib\n",
    "%matplotlib inline\n",
    "import pylab as plt\n",
    "import pandas as pd\n",
    "from shapely.ops import cascaded_union\n",
    "from Alpha_shape import alpha_shape\n",
    "from genContour import Construct_Contour\n"
   ]
  },
  {
   "cell_type": "code",
   "execution_count": null,
   "metadata": {},
   "outputs": [
    {
     "name": "stdout",
     "output_type": "stream",
     "text": [
      "--- 2.41441202164 seconds for build_NN_from_caffe_t ---\n",
      "process 1th image\n",
      "process 2th image\n",
      "process 3th image\n",
      "process 4th image\n",
      "process 5th image\n",
      "process 6th image\n"
     ]
    }
   ],
   "source": [
    "imgNums = list(range(1,23))\n",
    "file_id = 'wani' # wani20.jpg\n",
    "SubdirName = 'wani'\n",
    "\n",
    "# load caffe model\n",
    "start_time = time.time()\n",
    "\n",
    "param, model = config_reader()\n",
    "\n",
    "if param['use_gpu']: \n",
    "    caffe.set_mode_gpu()\n",
    "    caffe.set_device(param['GPUdeviceNumber']) # set to your device!\n",
    "else:\n",
    "    caffe.set_mode_cpu()\n",
    "net = caffe.Net(model['deployFile'], model['caffemodel'], caffe.TEST)\n",
    "build_NN_from_caffe_t = (time.time() - start_time)    \n",
    "\n",
    "print(\"--- %s seconds for build_NN_from_caffe_t ---\" % build_NN_from_caffe_t)\n",
    "\n",
    "# first figure shows padded images\n",
    "f, axarr = plt.subplots(1, len(imgNums))\n",
    "f.set_size_inches((20, 20))\n",
    "\n",
    "for i,imgNum in enumerate(imgNums):\n",
    "    print('process %dth image'%imgNum)\n",
    "    test_image = '../../Demo_Nature_Cut_out/'+SubdirName+'/'+file_id+str(imgNum)+'.jpg'\n",
    "    oriImg = cv.imread(test_image)\n",
    "\n",
    "    # read config\n",
    "    \n",
    "    \n",
    "\n",
    "    # construct Contour\n",
    "    img_return = Construct_Contour(oriImg, param, model, net)\n",
    "    axarr[i].imshow(img_return[:,:,[2,1,0]])\n",
    "#     plt.figure()\n",
    "#     plt.imshow(img_return[:,:,[2,1,0]])"
   ]
  },
  {
   "cell_type": "code",
   "execution_count": null,
   "metadata": {
    "collapsed": true
   },
   "outputs": [],
   "source": []
  },
  {
   "cell_type": "code",
   "execution_count": null,
   "metadata": {
    "collapsed": true
   },
   "outputs": [],
   "source": []
  }
 ],
 "metadata": {
  "kernelspec": {
   "display_name": "Python 2",
   "language": "python",
   "name": "python2"
  },
  "language_info": {
   "codemirror_mode": {
    "name": "ipython",
    "version": 2
   },
   "file_extension": ".py",
   "mimetype": "text/x-python",
   "name": "python",
   "nbconvert_exporter": "python",
   "pygments_lexer": "ipython2",
   "version": "2.7.6"
  }
 },
 "nbformat": 4,
 "nbformat_minor": 2
}
